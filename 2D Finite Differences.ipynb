{
 "cells": [
  {
   "cell_type": "markdown",
   "metadata": {},
   "source": [
    "# 2D Finite Differences "
   ]
  },
  {
   "cell_type": "markdown",
   "metadata": {},
   "source": [
    "## Code Deliverable"
   ]
  },
  {
   "cell_type": "code",
   "execution_count": 1,
   "metadata": {},
   "outputs": [],
   "source": [
    "import numpy as np\n",
    "from scipy import sparse\n",
    "\n",
    "def finiteDifference2D(f, N):\n",
    "    \n",
    "    h = 1/(N+1)\n",
    "    \n",
    "    #define 1D meshpoints \n",
    "    x, y = [i*h for i in range(1, N+1)], [j*h for j in range(1, N+1)]\n",
    "    \n",
    "    #create 2d meshgrid from 1d x and y coords\n",
    "    X, Y = np.meshgrid(x, y)\n",
    "    \n",
    "    #compute f(X,Y)\n",
    "    func = f(X, Y)*(-h**2)\n",
    "    func = func.flatten().T\n",
    "    \n",
    "    #define vectors for main diagonal and off diagonals \n",
    "    main_diag = 2*np.ones((N, 1)).ravel()\n",
    "    off_diag = -1*np.ones((N, 1)).ravel()\n",
    "\n",
    "    #create sparse matrix \n",
    "    diagonals = [main_diag, off_diag, off_diag]\n",
    "    S = sparse.diags(diagonals, [0,-1,1], shape=(N,N)).toarray()\n",
    "    \n",
    "    #create identity matrix \n",
    "    I = np.identity(N)\n",
    "    \n",
    "    #create kron matrix \n",
    "    L = np.kron(S, I) + np.kron(I, S)\n",
    "    \n",
    "    #solve function \n",
    "    U = np.linalg.solve(L, func)\n",
    "    \n",
    "    #return approximations \n",
    "    return U"
   ]
  },
  {
   "cell_type": "code",
   "execution_count": 2,
   "metadata": {},
   "outputs": [],
   "source": [
    "#define exact and f function \n",
    "exact = lambda x, y: -(np.sin(np.pi*x)*np.cos(np.pi*y))\n",
    "f = lambda x, y: 2*np.pi**2*np.sin(np.pi*x)*np.cos(np.pi*y)\n",
    "\n",
    "#test N\n",
    "N = 64\n",
    "\n",
    "#call 2d solver \n",
    "test = finiteDifference2D(f, N)"
   ]
  },
  {
   "cell_type": "code",
   "execution_count": 3,
   "metadata": {},
   "outputs": [
    {
     "data": {
      "text/plain": [
       "array([-0.00243429, -0.00486289, -0.00728014, ...,  0.00728014,\n",
       "        0.00486289,  0.00243429])"
      ]
     },
     "execution_count": 3,
     "metadata": {},
     "output_type": "execute_result"
    }
   ],
   "source": [
    "test"
   ]
  },
  {
   "cell_type": "code",
   "execution_count": 6,
   "metadata": {},
   "outputs": [],
   "source": [
    "def finiteDiffConvergence2D(f):\n",
    "    \n",
    "    \"\"\"\n",
    "    This function performs a convergence study \n",
    "    \"\"\"\n",
    "\n",
    "    #array of different values of N\n",
    "    N = [4, 8, 16, 32, 64, 128]\n",
    "\n",
    "    #initialize empty array to hold error\n",
    "    err = []\n",
    "\n",
    "    #loop through N values in Narray \n",
    "    for h in N:\n",
    "        #call finite different functions \n",
    "        print(h)\n",
    "        U = finiteDifference2D(f, h)\n",
    "        #find error from approximate value and exact \n",
    "        E = U - exact(np.linspace(a, b, h+1))\n",
    "        #append error to array \n",
    "        err.append(E)\n",
    "\n",
    "    #calculate the l2 and linf norm \n",
    "    X = [np.linalg.norm(item, 2) for item in err]\n",
    "    Y = [np.linalg.norm(item, np.inf) for item in err]\n",
    "    \n",
    "    #return norms \n",
    "    return X/np.sqrt(N), Y, N"
   ]
  },
  {
   "cell_type": "code",
   "execution_count": 4,
   "metadata": {},
   "outputs": [],
   "source": [
    "def plotLoglog(X, Y, NN):\n",
    "    \"\"\"\n",
    "    This function plots a convergence study on the approximated solutions \n",
    "    \n",
    "    Inputs:\n",
    "        X - l2 norm of approximated solution \n",
    "        Y - linf norm of the approximated solution \n",
    "        NN - array of N input sizes \n",
    "    \"\"\"\n",
    "    \n",
    "    #calculate slope \n",
    "    m1 = (np.log(2.18868523/4.36864701))/(np.log(128/64))\n",
    "    m2 = (np.log(5.675683733054939/11.178104970785938))/(np.log(128/64))\n",
    "    txt = \"\\nSlope of the log log plot for l_2 norm \" + str(round(m1,6)) + \"\\nSlope of the log log plot for l_inf norm \" + str(round(m2,6))\n",
    "    \n",
    "    #plot convergence study \n",
    "    fig, ax = plt.subplots(1, 2, figsize=(15,5))\n",
    "    ax[0].loglog(NN, X)\n",
    "    ax[0].set_xlabel('Step size N')\n",
    "    ax[0].set_ylabel(r'$\\ell_2$ norm of U_backslash')\n",
    "    ax[0].set_title(r'Loglog plot for $\\ell_2$ norm', fontsize=18)\n",
    "    ax[1].loglog(NN, Y)\n",
    "    ax[1].set_xlabel('Step size N')\n",
    "    ax[1].set_ylabel(r'$\\ell_{\\infty}$ norm of U_backslash')\n",
    "    ax[1].set_title(r'Loglog plot for $\\ell_{\\infty}$ norm', fontsize=18)\n",
    "    fig.text(.5, .000005, txt, ha='center', fontsize=13)\n",
    "    plt.show()"
   ]
  },
  {
   "cell_type": "code",
   "execution_count": 7,
   "metadata": {},
   "outputs": [
    {
     "name": "stdout",
     "output_type": "stream",
     "text": [
      "4\n"
     ]
    },
    {
     "ename": "NameError",
     "evalue": "name 'UB' is not defined",
     "output_type": "error",
     "traceback": [
      "\u001b[1;31m---------------------------------------------------------------------------\u001b[0m",
      "\u001b[1;31mNameError\u001b[0m                                 Traceback (most recent call last)",
      "\u001b[1;32m<ipython-input-7-879bd6367257>\u001b[0m in \u001b[0;36m<module>\u001b[1;34m\u001b[0m\n\u001b[0;32m      1\u001b[0m \u001b[1;31m#perform and plot convergence study\u001b[0m\u001b[1;33m\u001b[0m\u001b[1;33m\u001b[0m\u001b[1;33m\u001b[0m\u001b[0m\n\u001b[1;32m----> 2\u001b[1;33m \u001b[0mX\u001b[0m\u001b[1;33m,\u001b[0m \u001b[0mY\u001b[0m\u001b[1;33m,\u001b[0m \u001b[0mNN\u001b[0m \u001b[1;33m=\u001b[0m \u001b[0mfiniteDiffConvergence2D\u001b[0m\u001b[1;33m(\u001b[0m\u001b[0mf\u001b[0m\u001b[1;33m)\u001b[0m\u001b[1;33m\u001b[0m\u001b[1;33m\u001b[0m\u001b[0m\n\u001b[0m\u001b[0;32m      3\u001b[0m \u001b[0mplotLoglog\u001b[0m\u001b[1;33m(\u001b[0m\u001b[0mX\u001b[0m\u001b[1;33m,\u001b[0m \u001b[0mY\u001b[0m\u001b[1;33m,\u001b[0m \u001b[0mNN\u001b[0m\u001b[1;33m)\u001b[0m\u001b[1;33m\u001b[0m\u001b[1;33m\u001b[0m\u001b[0m\n",
      "\u001b[1;32m<ipython-input-6-6ecedd121715>\u001b[0m in \u001b[0;36mfiniteDiffConvergence2D\u001b[1;34m(f)\u001b[0m\n\u001b[0;32m     17\u001b[0m         \u001b[0mU\u001b[0m \u001b[1;33m=\u001b[0m \u001b[0mfiniteDifference2D\u001b[0m\u001b[1;33m(\u001b[0m\u001b[0mf\u001b[0m\u001b[1;33m,\u001b[0m \u001b[0mh\u001b[0m\u001b[1;33m)\u001b[0m\u001b[1;33m\u001b[0m\u001b[1;33m\u001b[0m\u001b[0m\n\u001b[0;32m     18\u001b[0m         \u001b[1;31m#find error from approximate value and exact\u001b[0m\u001b[1;33m\u001b[0m\u001b[1;33m\u001b[0m\u001b[1;33m\u001b[0m\u001b[0m\n\u001b[1;32m---> 19\u001b[1;33m         \u001b[0mE\u001b[0m \u001b[1;33m=\u001b[0m \u001b[0mUB\u001b[0m \u001b[1;33m-\u001b[0m \u001b[0mexact\u001b[0m\u001b[1;33m(\u001b[0m\u001b[0mnp\u001b[0m\u001b[1;33m.\u001b[0m\u001b[0mlinspace\u001b[0m\u001b[1;33m(\u001b[0m\u001b[0ma\u001b[0m\u001b[1;33m,\u001b[0m \u001b[0mb\u001b[0m\u001b[1;33m,\u001b[0m \u001b[0mh\u001b[0m\u001b[1;33m+\u001b[0m\u001b[1;36m1\u001b[0m\u001b[1;33m)\u001b[0m\u001b[1;33m)\u001b[0m\u001b[1;33m\u001b[0m\u001b[1;33m\u001b[0m\u001b[0m\n\u001b[0m\u001b[0;32m     20\u001b[0m         \u001b[1;31m#append error to array\u001b[0m\u001b[1;33m\u001b[0m\u001b[1;33m\u001b[0m\u001b[1;33m\u001b[0m\u001b[0m\n\u001b[0;32m     21\u001b[0m         \u001b[0merr\u001b[0m\u001b[1;33m.\u001b[0m\u001b[0mappend\u001b[0m\u001b[1;33m(\u001b[0m\u001b[0mE\u001b[0m\u001b[1;33m)\u001b[0m\u001b[1;33m\u001b[0m\u001b[1;33m\u001b[0m\u001b[0m\n",
      "\u001b[1;31mNameError\u001b[0m: name 'UB' is not defined"
     ]
    }
   ],
   "source": [
    "#perform and plot convergence study \n",
    "X, Y, NN = finiteDiffConvergence2D(f)\n",
    "plotLoglog(X, Y, NN)"
   ]
  },
  {
   "cell_type": "code",
   "execution_count": null,
   "metadata": {},
   "outputs": [],
   "source": []
  }
 ],
 "metadata": {
  "kernelspec": {
   "display_name": "Python 3",
   "language": "python",
   "name": "python3"
  },
  "language_info": {
   "codemirror_mode": {
    "name": "ipython",
    "version": 3
   },
   "file_extension": ".py",
   "mimetype": "text/x-python",
   "name": "python",
   "nbconvert_exporter": "python",
   "pygments_lexer": "ipython3",
   "version": "3.7.4"
  }
 },
 "nbformat": 4,
 "nbformat_minor": 2
}
