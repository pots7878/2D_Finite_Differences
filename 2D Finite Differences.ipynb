{
 "cells": [
  {
   "cell_type": "markdown",
   "metadata": {},
   "source": [
    "# 2D Finite Differences "
   ]
  },
  {
   "cell_type": "markdown",
   "metadata": {},
   "source": [
    "## Code Deliverable"
   ]
  },
  {
   "cell_type": "code",
   "execution_count": 114,
   "metadata": {},
   "outputs": [],
   "source": [
    "import numpy as np\n",
    "from scipy import sparse\n",
    "\n",
    "def finiteDifference2D(f, N):\n",
    "    \n",
    "    h = 1/N\n",
    "    \n",
    "    #define 1D meshpoints \n",
    "    x, y = [i*h for i in range(N+2)], [j*h for j in range(N+2)]\n",
    "    \n",
    "    #create 2d meshgrid from 1d x and y coords\n",
    "    X, Y = np.meshgrid(x, y)\n",
    "    \n",
    "    #compute f(X,Y)\n",
    "    func = f(X, Y)*(-h**2)\n",
    "    \n",
    "    #define vectors for main diagonal and off diagonals \n",
    "    main_diag = 2*np.ones((N+1, 1)).ravel()\n",
    "    off_diag = -1*np.ones((N, 1)).ravel()\n",
    "\n",
    "    #create sparse matrix \n",
    "    diagonals = [main_diag, off_diag, off_diag]\n",
    "    S = sparse.diags(diagonals, [0,-1,1], shape=(N,N)).toarray()\n",
    "    \n",
    "    #create identity matrix \n",
    "    I = np.identity(N)\n",
    "    \n",
    "    #create kron matrix \n",
    "    L = np.kron(S, I) + np.kron(I, S)\n",
    "    \n",
    "    #solve function \n",
    "    U = np.linalg.solve(L, func)\n",
    "    \n",
    "    #return approximations \n",
    "    return U"
   ]
  },
  {
   "cell_type": "code",
   "execution_count": 123,
   "metadata": {},
   "outputs": [
    {
     "name": "stdout",
     "output_type": "stream",
     "text": [
      "4\n",
      "(6, 6)\n",
      "(16, 16)\n"
     ]
    },
    {
     "ename": "ValueError",
     "evalue": "solve: Input operand 1 has a mismatch in its core dimension 0, with gufunc signature (m,m),(m,n)->(m,n) (size 6 is different from 16)",
     "output_type": "error",
     "traceback": [
      "\u001b[1;31m---------------------------------------------------------------------------\u001b[0m",
      "\u001b[1;31mValueError\u001b[0m                                Traceback (most recent call last)",
      "\u001b[1;32m<ipython-input-123-c0810713cd29>\u001b[0m in \u001b[0;36m<module>\u001b[1;34m\u001b[0m\n\u001b[0;32m      8\u001b[0m \u001b[1;33m\u001b[0m\u001b[0m\n\u001b[0;32m      9\u001b[0m \u001b[1;31m#call 2d solver\u001b[0m\u001b[1;33m\u001b[0m\u001b[1;33m\u001b[0m\u001b[1;33m\u001b[0m\u001b[0m\n\u001b[1;32m---> 10\u001b[1;33m \u001b[0mtest\u001b[0m \u001b[1;33m=\u001b[0m \u001b[0mfiniteDifference2D\u001b[0m\u001b[1;33m(\u001b[0m\u001b[0mfunc\u001b[0m\u001b[1;33m,\u001b[0m \u001b[0mN\u001b[0m\u001b[1;33m)\u001b[0m\u001b[1;33m\u001b[0m\u001b[1;33m\u001b[0m\u001b[0m\n\u001b[0m",
      "\u001b[1;32m<ipython-input-114-16fd3317ddab>\u001b[0m in \u001b[0;36mfiniteDifference2D\u001b[1;34m(f, N)\u001b[0m\n\u001b[0;32m     33\u001b[0m \u001b[1;33m\u001b[0m\u001b[0m\n\u001b[0;32m     34\u001b[0m     \u001b[1;31m#solve function\u001b[0m\u001b[1;33m\u001b[0m\u001b[1;33m\u001b[0m\u001b[1;33m\u001b[0m\u001b[0m\n\u001b[1;32m---> 35\u001b[1;33m     \u001b[0mU\u001b[0m \u001b[1;33m=\u001b[0m \u001b[0mnp\u001b[0m\u001b[1;33m.\u001b[0m\u001b[0mlinalg\u001b[0m\u001b[1;33m.\u001b[0m\u001b[0msolve\u001b[0m\u001b[1;33m(\u001b[0m\u001b[0mL\u001b[0m\u001b[1;33m,\u001b[0m \u001b[0mfunc\u001b[0m\u001b[1;33m)\u001b[0m\u001b[1;33m\u001b[0m\u001b[1;33m\u001b[0m\u001b[0m\n\u001b[0m\u001b[0;32m     36\u001b[0m \u001b[1;33m\u001b[0m\u001b[0m\n\u001b[0;32m     37\u001b[0m     \u001b[1;31m#return approximations\u001b[0m\u001b[1;33m\u001b[0m\u001b[1;33m\u001b[0m\u001b[1;33m\u001b[0m\u001b[0m\n",
      "\u001b[1;32m<__array_function__ internals>\u001b[0m in \u001b[0;36msolve\u001b[1;34m(*args, **kwargs)\u001b[0m\n",
      "\u001b[1;32mc:\\users\\cspoe\\appdata\\local\\programs\\python\\python37-32\\lib\\site-packages\\numpy\\linalg\\linalg.py\u001b[0m in \u001b[0;36msolve\u001b[1;34m(a, b)\u001b[0m\n\u001b[0;32m    401\u001b[0m     \u001b[0msignature\u001b[0m \u001b[1;33m=\u001b[0m \u001b[1;34m'DD->D'\u001b[0m \u001b[1;32mif\u001b[0m \u001b[0misComplexType\u001b[0m\u001b[1;33m(\u001b[0m\u001b[0mt\u001b[0m\u001b[1;33m)\u001b[0m \u001b[1;32melse\u001b[0m \u001b[1;34m'dd->d'\u001b[0m\u001b[1;33m\u001b[0m\u001b[1;33m\u001b[0m\u001b[0m\n\u001b[0;32m    402\u001b[0m     \u001b[0mextobj\u001b[0m \u001b[1;33m=\u001b[0m \u001b[0mget_linalg_error_extobj\u001b[0m\u001b[1;33m(\u001b[0m\u001b[0m_raise_linalgerror_singular\u001b[0m\u001b[1;33m)\u001b[0m\u001b[1;33m\u001b[0m\u001b[1;33m\u001b[0m\u001b[0m\n\u001b[1;32m--> 403\u001b[1;33m     \u001b[0mr\u001b[0m \u001b[1;33m=\u001b[0m \u001b[0mgufunc\u001b[0m\u001b[1;33m(\u001b[0m\u001b[0ma\u001b[0m\u001b[1;33m,\u001b[0m \u001b[0mb\u001b[0m\u001b[1;33m,\u001b[0m \u001b[0msignature\u001b[0m\u001b[1;33m=\u001b[0m\u001b[0msignature\u001b[0m\u001b[1;33m,\u001b[0m \u001b[0mextobj\u001b[0m\u001b[1;33m=\u001b[0m\u001b[0mextobj\u001b[0m\u001b[1;33m)\u001b[0m\u001b[1;33m\u001b[0m\u001b[1;33m\u001b[0m\u001b[0m\n\u001b[0m\u001b[0;32m    404\u001b[0m \u001b[1;33m\u001b[0m\u001b[0m\n\u001b[0;32m    405\u001b[0m     \u001b[1;32mreturn\u001b[0m \u001b[0mwrap\u001b[0m\u001b[1;33m(\u001b[0m\u001b[0mr\u001b[0m\u001b[1;33m.\u001b[0m\u001b[0mastype\u001b[0m\u001b[1;33m(\u001b[0m\u001b[0mresult_t\u001b[0m\u001b[1;33m,\u001b[0m \u001b[0mcopy\u001b[0m\u001b[1;33m=\u001b[0m\u001b[1;32mFalse\u001b[0m\u001b[1;33m)\u001b[0m\u001b[1;33m)\u001b[0m\u001b[1;33m\u001b[0m\u001b[1;33m\u001b[0m\u001b[0m\n",
      "\u001b[1;31mValueError\u001b[0m: solve: Input operand 1 has a mismatch in its core dimension 0, with gufunc signature (m,m),(m,n)->(m,n) (size 6 is different from 16)"
     ]
    }
   ],
   "source": [
    "#define exact and f function \n",
    "exact = lambda x, y: -(np.sin(np.pi*x)*np.cos(np.pi*y))\n",
    "f = lambda x, y: 2*np.pi**2*np.sin(np.pi*x)*np.cos(np.pi*y)\n",
    "func = lambda x, y: np.pi**2*np.cos(np.pi*x)*np.sin(np.pi*y)+np.pi**2*np.sin(np.pi*x)*np.cos(np.pi*y)\n",
    "\n",
    "#test N\n",
    "N = 4\n",
    "\n",
    "#call 2d solver \n",
    "test = finiteDifference2D(func, N)"
   ]
  },
  {
   "cell_type": "code",
   "execution_count": 116,
   "metadata": {},
   "outputs": [],
   "source": [
    "# def finiteDiffConvergence2D(f):\n",
    "    \n",
    "#     \"\"\"\n",
    "#     This function performs a convergence study \n",
    "#     \"\"\"\n",
    "\n",
    "#     #array of different values of N\n",
    "#     N = [4, 8, 16, 32, 64, 128]\n",
    "\n",
    "#     #initialize empty array to hold error\n",
    "#     err = []\n",
    "\n",
    "#     #loop through N values in Narray \n",
    "#     for h in N:\n",
    "#         #call finite different functions \n",
    "#         print(h)\n",
    "#         U = finiteDifference2D(f, h)\n",
    "#         #find error from approximate value and exact \n",
    "#         E = UB - exact(np.linspace(a, b, h+1))\n",
    "#         #append error to array \n",
    "#         err.append(E)\n",
    "\n",
    "#     #calculate the l2 and linf norm \n",
    "#     X = [np.linalg.norm(item, 2) for item in err]\n",
    "#     Y = [np.linalg.norm(item, np.inf) for item in err]\n",
    "    \n",
    "#     #return norms \n",
    "#     return X/np.sqrt(N), Y, N"
   ]
  },
  {
   "cell_type": "code",
   "execution_count": 117,
   "metadata": {},
   "outputs": [],
   "source": [
    "# def plotLoglog(X, Y, NN):\n",
    "#     \"\"\"\n",
    "#     This function plots a convergence study on the approximated solutions \n",
    "    \n",
    "#     Inputs:\n",
    "#         X - l2 norm of approximated solution \n",
    "#         Y - linf norm of the approximated solution \n",
    "#         NN - array of N input sizes \n",
    "#     \"\"\"\n",
    "    \n",
    "#     #calculate slope \n",
    "#     m1 = (np.log(2.18868523/4.36864701))/(np.log(128/64))\n",
    "#     m2 = (np.log(5.675683733054939/11.178104970785938))/(np.log(128/64))\n",
    "#     txt = \"\\nSlope of the log log plot for l_2 norm \" + str(round(m1,6)) + \"\\nSlope of the log log plot for l_inf norm \" + str(round(m2,6))\n",
    "    \n",
    "#     #plot convergence study \n",
    "#     fig, ax = plt.subplots(1, 2, figsize=(15,5))\n",
    "#     ax[0].loglog(NN, X)\n",
    "#     ax[0].set_xlabel('Step size N')\n",
    "#     ax[0].set_ylabel(r'$\\ell_2$ norm of U_backslash')\n",
    "#     ax[0].set_title(r'Loglog plot for $\\ell_2$ norm', fontsize=18)\n",
    "#     ax[1].loglog(NN, Y)\n",
    "#     ax[1].set_xlabel('Step size N')\n",
    "#     ax[1].set_ylabel(r'$\\ell_{\\infty}$ norm of U_backslash')\n",
    "#     ax[1].set_title(r'Loglog plot for $\\ell_{\\infty}$ norm', fontsize=18)\n",
    "#     fig.text(.5, .000005, txt, ha='center', fontsize=13)\n",
    "#     plt.show()"
   ]
  },
  {
   "cell_type": "code",
   "execution_count": 119,
   "metadata": {},
   "outputs": [],
   "source": [
    "# #perform and plot convergence study \n",
    "# X, Y, NN = finiteDiffConvergence2D(f)\n",
    "# plotLoglog(X, Y, NN)"
   ]
  },
  {
   "cell_type": "code",
   "execution_count": null,
   "metadata": {},
   "outputs": [],
   "source": []
  }
 ],
 "metadata": {
  "kernelspec": {
   "display_name": "Python 3",
   "language": "python",
   "name": "python3"
  },
  "language_info": {
   "codemirror_mode": {
    "name": "ipython",
    "version": 3
   },
   "file_extension": ".py",
   "mimetype": "text/x-python",
   "name": "python",
   "nbconvert_exporter": "python",
   "pygments_lexer": "ipython3",
   "version": "3.7.4"
  }
 },
 "nbformat": 4,
 "nbformat_minor": 2
}
